{
 "cells": [
  {
   "cell_type": "code",
   "execution_count": 45,
   "metadata": {},
   "outputs": [],
   "source": [
    "from __future__ import annotations\n",
    "from dataclasses import dataclass, field\n",
    "from typing import List, Tuple, Union\n",
    "from graphviz import Digraph\n",
    "from math import exp"
   ]
  },
  {
   "cell_type": "code",
   "execution_count": 90,
   "metadata": {},
   "outputs": [],
   "source": [
    "# @dataclass(frozen=True)\n",
    "class Value:\n",
    "    def __init__(self, data: float, prev: set=(), op: str='', grad: float=0.0, label: str='') -> None:\n",
    "        self.data = data\n",
    "        self.prev = set(prev)\n",
    "        self.op = op\n",
    "        self.grad = grad\n",
    "        self.label = label\n",
    "        self._backward = lambda: None\n",
    "\n",
    "    def __repr__(self) -> str:\n",
    "        return f\"Value(data={self.data})\"\n",
    "    \n",
    "    def __add__(self, other: Value) -> Value:\n",
    "        other = Value(other) if isinstance(other, float) or isinstance(other, int) else other\n",
    "        new_data = self.data + other.data\n",
    "        op = '+'\n",
    "        out = Value(data=new_data, prev=(self, other), op=op)\n",
    "        # Defining the closure to compute the gradient\n",
    "        def _backward():\n",
    "            self.grad += 1.0 * out.grad\n",
    "            other.grad += 1.0 * out.grad\n",
    "        # Assigning it to out's backward\n",
    "        out._backward = _backward\n",
    "        return out\n",
    "    \n",
    "    def __mul__(self, other: Union[Value, int, float]) -> Value:\n",
    "        other = Value(other) if isinstance(other, float) or isinstance(other, int) else other\n",
    "        new_data = self.data * other.data\n",
    "        op = '*'\n",
    "        out = Value(data=new_data, prev=(self, other), op=op)\n",
    "\n",
    "        def _backward():\n",
    "            self.grad += other.data * out.grad\n",
    "            other.grad += self.data * out.grad\n",
    "        \n",
    "        out._backward = _backward\n",
    "        return out\n",
    "    \n",
    "    def __rmul__(self, other: Union[int, float]) -> Value:\n",
    "        return self.__mul__(other)\n",
    "    \n",
    "    def __radd__(self, other: Union[int, float]) -> Value:\n",
    "        return self.__add__(other)\n",
    "    \n",
    "    def __truediv__(self, other):\n",
    "        return self * other**-1\n",
    "    \n",
    "    def __rtruediv__(self, other):\n",
    "        return self**-1 * other\n",
    "    \n",
    "    def __neg__(self):\n",
    "        return -1 * self\n",
    "    \n",
    "    def __sub__(self, other):\n",
    "        return self + (-other)\n",
    "    \n",
    "    def __rsub__(self, other):\n",
    "        return other + (-self)\n",
    "\n",
    "    def __pow__(self, other: Union[int, float]) -> Value:\n",
    "        assert isinstance(other, (float, int)), \"Only Int and Float powers are supported!\"\n",
    "\n",
    "        out = Value(self.data**other, (self, ), f\"**{other}\")\n",
    "\n",
    "        def _backward():\n",
    "            self.grad += out.data * (self.data ** (other - 1)) * out.grad\n",
    "        \n",
    "        out._backward = _backward\n",
    "        return out\n",
    "    \n",
    "    def tanh(self) -> Value:\n",
    "        x = self.data\n",
    "        t = (exp(2 * x) - 1) / (exp(2 * x) + 1)\n",
    "        out = Value(t, prev=(self,), op='tanh')\n",
    "\n",
    "        def _backward():\n",
    "            self.grad += (1 - t**2) * out.grad\n",
    "\n",
    "        out._backward = _backward\n",
    "        return  out\n",
    "    \n",
    "    def exp(self) -> Value:\n",
    "        x = self.data\n",
    "        out = Value(exp(x), (self, ), \"exp\")\n",
    "\n",
    "        def _backward():\n",
    "            self.grad += self.data * out.grad\n",
    "\n",
    "        out._backward = _backward\n",
    "        return out\n",
    "    \n",
    "    def backward(self):\n",
    "        topology: List[Value] = []\n",
    "        visited = set()\n",
    "\n",
    "        # Function to visit each child and add it to topology\n",
    "        # (Topological Traversal of Directed Acyclic Graphs)\n",
    "        def build_topology(node: Value):\n",
    "            if node not in visited:\n",
    "                visited.add(node)\n",
    "                for child in node.prev:\n",
    "                    build_topology(child)\n",
    "                topology.append(node)\n",
    "        \n",
    "        # Build Topology\n",
    "        build_topology(self)\n",
    "\n",
    "        # Initialize the gradient\n",
    "        self.grad = 1.0\n",
    "        for node in reversed(topology):\n",
    "            node._backward()\n",
    "\n"
   ]
  },
  {
   "cell_type": "code",
   "execution_count": 91,
   "metadata": {},
   "outputs": [
    {
     "name": "stdout",
     "output_type": "stream",
     "text": [
      "Value(data=4)\n",
      "Value(data=4)\n",
      "Value(data=-9)\n",
      "Value(data=3.0)\n",
      "Value(data=1.8)\n",
      "Value(data=2.5)\n",
      "Value(data=2.0)\n",
      "Value(data=0)\n"
     ]
    }
   ],
   "source": [
    "l = Value(9)\n",
    "k = Value(5)\n",
    "print(l-k)\n",
    "print(k - 1)\n",
    "print(-l)\n",
    "print(l**.5)\n",
    "print(l/k)\n",
    "print(k/2)\n",
    "print(10/k)\n",
    "print(5 - k)"
   ]
  },
  {
   "cell_type": "code",
   "execution_count": 55,
   "metadata": {},
   "outputs": [],
   "source": [
    "def trace(root) -> Tuple[List[Value], List[tuple]]:\n",
    "  # builds a set of all nodes and edges in a graph\n",
    "  nodes, edges = set(), set()\n",
    "  def build(v: Value):\n",
    "    if v not in nodes:\n",
    "      nodes.add(v)\n",
    "      for child in v.prev:\n",
    "        edges.add((child, v))\n",
    "        build(child)\n",
    "  build(root)\n",
    "  return nodes, edges\n",
    "\n",
    "def draw_dot(root: Value):\n",
    "  dot = Digraph(format='svg', graph_attr={'rankdir': 'LR'}) # LR = left to right\n",
    "  \n",
    "  nodes, edges = trace(root)\n",
    "  for n in nodes:\n",
    "    uid = str(id(n))\n",
    "    # for any value in the graph, create a rectangular ('record') node for it\n",
    "    dot.node(name = uid, label = \"{ %s | data %.4f | grad %.4f }\" % (n.label, n.data, n.grad), shape='record')\n",
    "    if n.op:\n",
    "      # if this value is a result of some operation, create an op node for it\n",
    "      dot.node(name = uid + n.op, label = n.op)\n",
    "      # and connect this node to it\n",
    "      dot.edge(uid + n.op, uid)\n",
    "\n",
    "  for n1, n2 in edges:\n",
    "    # connect n1 to the op node of n2\n",
    "    dot.edge(str(id(n1)), str(id(n2)) + n2.op)\n",
    "\n",
    "  return dot"
   ]
  },
  {
   "cell_type": "code",
   "execution_count": 18,
   "metadata": {},
   "outputs": [],
   "source": [
    "a = Value(3.0, label='a')\n",
    "b = Value(5.0, label='b')\n",
    "c = a + b; c.label = 'c'\n",
    "d = Value(2.0, label='d')\n",
    "e = d * c; e.label = 'e'"
   ]
  },
  {
   "cell_type": "code",
   "execution_count": 21,
   "metadata": {},
   "outputs": [
    {
     "data": {
      "image/svg+xml": [
       "<?xml version=\"1.0\" encoding=\"UTF-8\" standalone=\"no\"?>\n",
       "<!DOCTYPE svg PUBLIC \"-//W3C//DTD SVG 1.1//EN\"\n",
       " \"http://www.w3.org/Graphics/SVG/1.1/DTD/svg11.dtd\">\n",
       "<!-- Generated by graphviz version 12.0.0 (20240704.0754)\n",
       " -->\n",
       "<!-- Pages: 1 -->\n",
       "<svg width=\"823pt\" height=\"128pt\"\n",
       " viewBox=\"0.00 0.00 823.25 128.00\" xmlns=\"http://www.w3.org/2000/svg\" xmlns:xlink=\"http://www.w3.org/1999/xlink\">\n",
       "<g id=\"graph0\" class=\"graph\" transform=\"scale(1 1) rotate(0) translate(4 124)\">\n",
       "<polygon fill=\"white\" stroke=\"none\" points=\"-4,4 -4,-124 819.25,-124 819.25,4 -4,4\"/>\n",
       "<!-- 2487031148512 -->\n",
       "<g id=\"node1\" class=\"node\">\n",
       "<title>2487031148512</title>\n",
       "<polygon fill=\"none\" stroke=\"black\" points=\"0,-83.5 0,-119.5 186,-119.5 186,-83.5 0,-83.5\"/>\n",
       "<text text-anchor=\"middle\" x=\"11.75\" y=\"-96.2\" font-family=\"Times New Roman,serif\" font-size=\"14.00\">b</text>\n",
       "<polyline fill=\"none\" stroke=\"black\" points=\"23.5,-83.75 23.5,-119.5\"/>\n",
       "<text text-anchor=\"middle\" x=\"63.75\" y=\"-96.2\" font-family=\"Times New Roman,serif\" font-size=\"14.00\">data 5.0000</text>\n",
       "<polyline fill=\"none\" stroke=\"black\" points=\"104,-83.75 104,-119.5\"/>\n",
       "<text text-anchor=\"middle\" x=\"145\" y=\"-96.2\" font-family=\"Times New Roman,serif\" font-size=\"14.00\">grad 2.0000</text>\n",
       "</g>\n",
       "<!-- 2487012814816+ -->\n",
       "<g id=\"node5\" class=\"node\">\n",
       "<title>2487012814816+</title>\n",
       "<ellipse fill=\"none\" stroke=\"black\" cx=\"249\" cy=\"-73.5\" rx=\"27\" ry=\"18\"/>\n",
       "<text text-anchor=\"middle\" x=\"249\" y=\"-68.08\" font-family=\"Times New Roman,serif\" font-size=\"14.00\">+</text>\n",
       "</g>\n",
       "<!-- 2487031148512&#45;&gt;2487012814816+ -->\n",
       "<g id=\"edge5\" class=\"edge\">\n",
       "<title>2487031148512&#45;&gt;2487012814816+</title>\n",
       "<path fill=\"none\" stroke=\"black\" d=\"M186.25,-84.73C195.1,-83.12 203.67,-81.56 211.46,-80.14\"/>\n",
       "<polygon fill=\"black\" stroke=\"black\" points=\"211.93,-83.62 221.15,-78.38 210.68,-76.73 211.93,-83.62\"/>\n",
       "</g>\n",
       "<!-- 2487012810976 -->\n",
       "<g id=\"node2\" class=\"node\">\n",
       "<title>2487012810976</title>\n",
       "<polygon fill=\"none\" stroke=\"black\" points=\"312,-0.5 312,-36.5 498,-36.5 498,-0.5 312,-0.5\"/>\n",
       "<text text-anchor=\"middle\" x=\"323.75\" y=\"-13.2\" font-family=\"Times New Roman,serif\" font-size=\"14.00\">d</text>\n",
       "<polyline fill=\"none\" stroke=\"black\" points=\"335.5,-0.75 335.5,-36.5\"/>\n",
       "<text text-anchor=\"middle\" x=\"375.75\" y=\"-13.2\" font-family=\"Times New Roman,serif\" font-size=\"14.00\">data 2.0000</text>\n",
       "<polyline fill=\"none\" stroke=\"black\" points=\"416,-0.75 416,-36.5\"/>\n",
       "<text text-anchor=\"middle\" x=\"457\" y=\"-13.2\" font-family=\"Times New Roman,serif\" font-size=\"14.00\">grad 8.0000</text>\n",
       "</g>\n",
       "<!-- 2487012807664* -->\n",
       "<g id=\"node7\" class=\"node\">\n",
       "<title>2487012807664*</title>\n",
       "<ellipse fill=\"none\" stroke=\"black\" cx=\"561\" cy=\"-45.5\" rx=\"27\" ry=\"18\"/>\n",
       "<text text-anchor=\"middle\" x=\"561\" y=\"-40.08\" font-family=\"Times New Roman,serif\" font-size=\"14.00\">*</text>\n",
       "</g>\n",
       "<!-- 2487012810976&#45;&gt;2487012807664* -->\n",
       "<g id=\"edge3\" class=\"edge\">\n",
       "<title>2487012810976&#45;&gt;2487012807664*</title>\n",
       "<path fill=\"none\" stroke=\"black\" d=\"M498.25,-34.67C507.01,-36.21 515.5,-37.7 523.24,-39.05\"/>\n",
       "<polygon fill=\"black\" stroke=\"black\" points=\"522.39,-42.46 532.84,-40.74 523.6,-35.56 522.39,-42.46\"/>\n",
       "</g>\n",
       "<!-- 2487010587504 -->\n",
       "<g id=\"node3\" class=\"node\">\n",
       "<title>2487010587504</title>\n",
       "<polygon fill=\"none\" stroke=\"black\" points=\"0.75,-28.5 0.75,-64.5 185.25,-64.5 185.25,-28.5 0.75,-28.5\"/>\n",
       "<text text-anchor=\"middle\" x=\"11.75\" y=\"-41.2\" font-family=\"Times New Roman,serif\" font-size=\"14.00\">a</text>\n",
       "<polyline fill=\"none\" stroke=\"black\" points=\"22.75,-28.75 22.75,-64.5\"/>\n",
       "<text text-anchor=\"middle\" x=\"63\" y=\"-41.2\" font-family=\"Times New Roman,serif\" font-size=\"14.00\">data 3.0000</text>\n",
       "<polyline fill=\"none\" stroke=\"black\" points=\"103.25,-28.75 103.25,-64.5\"/>\n",
       "<text text-anchor=\"middle\" x=\"144.25\" y=\"-41.2\" font-family=\"Times New Roman,serif\" font-size=\"14.00\">grad 2.0000</text>\n",
       "</g>\n",
       "<!-- 2487010587504&#45;&gt;2487012814816+ -->\n",
       "<g id=\"edge4\" class=\"edge\">\n",
       "<title>2487010587504&#45;&gt;2487012814816+</title>\n",
       "<path fill=\"none\" stroke=\"black\" d=\"M185.36,-62.52C194.5,-64.12 203.36,-65.67 211.4,-67.08\"/>\n",
       "<polygon fill=\"black\" stroke=\"black\" points=\"210.58,-70.49 221.04,-68.77 211.79,-63.6 210.58,-70.49\"/>\n",
       "</g>\n",
       "<!-- 2487012814816 -->\n",
       "<g id=\"node4\" class=\"node\">\n",
       "<title>2487012814816</title>\n",
       "<polygon fill=\"none\" stroke=\"black\" points=\"312.38,-55.5 312.38,-91.5 497.62,-91.5 497.62,-55.5 312.38,-55.5\"/>\n",
       "<text text-anchor=\"middle\" x=\"323.75\" y=\"-68.2\" font-family=\"Times New Roman,serif\" font-size=\"14.00\">c</text>\n",
       "<polyline fill=\"none\" stroke=\"black\" points=\"335.12,-55.75 335.12,-91.5\"/>\n",
       "<text text-anchor=\"middle\" x=\"375.38\" y=\"-68.2\" font-family=\"Times New Roman,serif\" font-size=\"14.00\">data 8.0000</text>\n",
       "<polyline fill=\"none\" stroke=\"black\" points=\"415.62,-55.75 415.62,-91.5\"/>\n",
       "<text text-anchor=\"middle\" x=\"456.62\" y=\"-68.2\" font-family=\"Times New Roman,serif\" font-size=\"14.00\">grad 2.0000</text>\n",
       "</g>\n",
       "<!-- 2487012814816&#45;&gt;2487012807664* -->\n",
       "<g id=\"edge6\" class=\"edge\">\n",
       "<title>2487012814816&#45;&gt;2487012807664*</title>\n",
       "<path fill=\"none\" stroke=\"black\" d=\"M497.81,-56.81C506.7,-55.19 515.33,-53.62 523.18,-52.2\"/>\n",
       "<polygon fill=\"black\" stroke=\"black\" points=\"523.73,-55.65 532.94,-50.42 522.48,-48.77 523.73,-55.65\"/>\n",
       "</g>\n",
       "<!-- 2487012814816+&#45;&gt;2487012814816 -->\n",
       "<g id=\"edge1\" class=\"edge\">\n",
       "<title>2487012814816+&#45;&gt;2487012814816</title>\n",
       "<path fill=\"none\" stroke=\"black\" d=\"M276.47,-73.5C283.67,-73.5 291.92,-73.5 300.69,-73.5\"/>\n",
       "<polygon fill=\"black\" stroke=\"black\" points=\"300.51,-77 310.51,-73.5 300.51,-70 300.51,-77\"/>\n",
       "</g>\n",
       "<!-- 2487012807664 -->\n",
       "<g id=\"node6\" class=\"node\">\n",
       "<title>2487012807664</title>\n",
       "<polygon fill=\"none\" stroke=\"black\" points=\"624,-27.5 624,-63.5 815.25,-63.5 815.25,-27.5 624,-27.5\"/>\n",
       "<text text-anchor=\"middle\" x=\"635\" y=\"-40.2\" font-family=\"Times New Roman,serif\" font-size=\"14.00\">e</text>\n",
       "<polyline fill=\"none\" stroke=\"black\" points=\"646,-27.75 646,-63.5\"/>\n",
       "<text text-anchor=\"middle\" x=\"689.62\" y=\"-40.2\" font-family=\"Times New Roman,serif\" font-size=\"14.00\">data 16.0000</text>\n",
       "<polyline fill=\"none\" stroke=\"black\" points=\"733.25,-27.75 733.25,-63.5\"/>\n",
       "<text text-anchor=\"middle\" x=\"774.25\" y=\"-40.2\" font-family=\"Times New Roman,serif\" font-size=\"14.00\">grad 1.0000</text>\n",
       "</g>\n",
       "<!-- 2487012807664*&#45;&gt;2487012807664 -->\n",
       "<g id=\"edge2\" class=\"edge\">\n",
       "<title>2487012807664*&#45;&gt;2487012807664</title>\n",
       "<path fill=\"none\" stroke=\"black\" d=\"M588.22,-45.5C595.38,-45.5 603.61,-45.5 612.37,-45.5\"/>\n",
       "<polygon fill=\"black\" stroke=\"black\" points=\"612.21,-49 622.21,-45.5 612.21,-42 612.21,-49\"/>\n",
       "</g>\n",
       "</g>\n",
       "</svg>\n"
      ],
      "text/plain": [
       "<graphviz.graphs.Digraph at 0x2430ea28160>"
      ]
     },
     "execution_count": 21,
     "metadata": {},
     "output_type": "execute_result"
    }
   ],
   "source": [
    "draw_dot(e)"
   ]
  },
  {
   "cell_type": "code",
   "execution_count": 20,
   "metadata": {},
   "outputs": [
    {
     "name": "stdout",
     "output_type": "stream",
     "text": [
      "[Value(data=2.0), Value(data=5.0), Value(data=3.0), Value(data=8.0), Value(data=16.0)]\n"
     ]
    }
   ],
   "source": [
    "e.backward()"
   ]
  },
  {
   "cell_type": "code",
   "execution_count": 7,
   "metadata": {},
   "outputs": [
    {
     "name": "stdout",
     "output_type": "stream",
     "text": [
      "de/dd = 8.000000661922968\n",
      "de/dc = 2.000000165480742\n",
      "dc/db = 1.000000082740371\n"
     ]
    }
   ],
   "source": [
    "def calculate_gradient():\n",
    "    # Initializing values\n",
    "    a = Value(3.0, label='a')\n",
    "    b = Value(5.0, label='b')\n",
    "    c = a + b; c.label = 'c'\n",
    "    d = Value(2.0, label='d')\n",
    "    e = d * c; e.label = 'e'\n",
    "\n",
    "    h = 0.000000001\n",
    "\n",
    "    # Calculating dd/de\n",
    "    d1 = d.data + h # d1 = d+h\n",
    "    e1 = d1 * c.data # f(d+h)\n",
    "    print(f\"de/dd = {(e1 - e.data)/h}\") # de/dd = (f(d+h) - f(d))/h\n",
    "\n",
    "    # Calculating dc/de\n",
    "    c1 = c.data + h # c1 = c+h\n",
    "    e1 = c1 * d.data # f(c+h)\n",
    "    print(f\"de/dc = {(e1 - e.data)/h}\") # de/dc = (f(c+h) - f(c))/h\n",
    "\n",
    "    # Calculating db/dc\n",
    "    b1 = b.data + h # b1 = b+h\n",
    "    c1 = b1 + a.data # f(b+h)\n",
    "    print(f\"dc/db = {(c1 - c.data)/h}\") # dc/db = f(d)\n",
    "\n",
    "calculate_gradient()"
   ]
  },
  {
   "cell_type": "code",
   "execution_count": 22,
   "metadata": {},
   "outputs": [],
   "source": [
    "# Inputs\n",
    "x1 = Value(2.0, label='x1')\n",
    "x2 = Value(0.0, label='x2')\n",
    "\n",
    "# Weights\n",
    "w1 = Value(-3.0, label='w1')\n",
    "w2 = Value(1.0, label='w2')\n",
    "\n",
    "# Bias\n",
    "b = Value(6.881373587019, label='b')\n",
    "\n",
    "# Multiplying weights\n",
    "x1w1 = x1 * w1; x1w1.label = 'x1w1'\n",
    "x2w2 = x2 * w2; x2w2.label = 'x2w2'\n",
    "\n",
    "# Adding the bias\n",
    "Wx = x1w1 + x2w2; Wx.label = 'Wx'\n",
    "z = Wx + b; z.label = 'z'\n",
    "f_z = z.tanh(); f_z.label = 'o'"
   ]
  },
  {
   "cell_type": "code",
   "execution_count": 25,
   "metadata": {},
   "outputs": [
    {
     "data": {
      "image/svg+xml": [
       "<?xml version=\"1.0\" encoding=\"UTF-8\" standalone=\"no\"?>\n",
       "<!DOCTYPE svg PUBLIC \"-//W3C//DTD SVG 1.1//EN\"\n",
       " \"http://www.w3.org/Graphics/SVG/1.1/DTD/svg11.dtd\">\n",
       "<!-- Generated by graphviz version 12.0.0 (20240704.0754)\n",
       " -->\n",
       "<!-- Pages: 1 -->\n",
       "<svg width=\"1498pt\" height=\"210pt\"\n",
       " viewBox=\"0.00 0.00 1498.25 210.00\" xmlns=\"http://www.w3.org/2000/svg\" xmlns:xlink=\"http://www.w3.org/1999/xlink\">\n",
       "<g id=\"graph0\" class=\"graph\" transform=\"scale(1 1) rotate(0) translate(4 206)\">\n",
       "<polygon fill=\"white\" stroke=\"none\" points=\"-4,4 -4,-206 1494.25,-206 1494.25,4 -4,4\"/>\n",
       "<!-- 2487012806656 -->\n",
       "<g id=\"node1\" class=\"node\">\n",
       "<title>2487012806656</title>\n",
       "<polygon fill=\"none\" stroke=\"black\" points=\"0,-165.5 0,-201.5 199.5,-201.5 199.5,-165.5 0,-165.5\"/>\n",
       "<text text-anchor=\"middle\" x=\"16.25\" y=\"-178.2\" font-family=\"Times New Roman,serif\" font-size=\"14.00\">w1</text>\n",
       "<polyline fill=\"none\" stroke=\"black\" points=\"32.5,-165.75 32.5,-201.5\"/>\n",
       "<text text-anchor=\"middle\" x=\"75\" y=\"-178.2\" font-family=\"Times New Roman,serif\" font-size=\"14.00\">data &#45;3.0000</text>\n",
       "<polyline fill=\"none\" stroke=\"black\" points=\"117.5,-165.75 117.5,-201.5\"/>\n",
       "<text text-anchor=\"middle\" x=\"158.5\" y=\"-178.2\" font-family=\"Times New Roman,serif\" font-size=\"14.00\">grad 1.0000</text>\n",
       "</g>\n",
       "<!-- 2487012814528* -->\n",
       "<g id=\"node8\" class=\"node\">\n",
       "<title>2487012814528*</title>\n",
       "<ellipse fill=\"none\" stroke=\"black\" cx=\"262.5\" cy=\"-128.5\" rx=\"27\" ry=\"18\"/>\n",
       "<text text-anchor=\"middle\" x=\"262.5\" y=\"-123.08\" font-family=\"Times New Roman,serif\" font-size=\"14.00\">*</text>\n",
       "</g>\n",
       "<!-- 2487012806656&#45;&gt;2487012814528* -->\n",
       "<g id=\"edge13\" class=\"edge\">\n",
       "<title>2487012806656&#45;&gt;2487012814528*</title>\n",
       "<path fill=\"none\" stroke=\"black\" d=\"M173.43,-165.03C182.28,-162.37 191.14,-159.51 199.5,-156.5 209.59,-152.87 220.33,-148.29 229.98,-143.89\"/>\n",
       "<polygon fill=\"black\" stroke=\"black\" points=\"231.37,-147.1 238.95,-139.7 228.41,-140.76 231.37,-147.1\"/>\n",
       "</g>\n",
       "<!-- 2487012803680 -->\n",
       "<g id=\"node2\" class=\"node\">\n",
       "<title>2487012803680</title>\n",
       "<polygon fill=\"none\" stroke=\"black\" points=\"993.75,-54.5 993.75,-90.5 1178.25,-90.5 1178.25,-54.5 993.75,-54.5\"/>\n",
       "<text text-anchor=\"middle\" x=\"1004.75\" y=\"-67.2\" font-family=\"Times New Roman,serif\" font-size=\"14.00\">z</text>\n",
       "<polyline fill=\"none\" stroke=\"black\" points=\"1015.75,-54.75 1015.75,-90.5\"/>\n",
       "<text text-anchor=\"middle\" x=\"1056\" y=\"-67.2\" font-family=\"Times New Roman,serif\" font-size=\"14.00\">data 0.8814</text>\n",
       "<polyline fill=\"none\" stroke=\"black\" points=\"1096.25,-54.75 1096.25,-90.5\"/>\n",
       "<text text-anchor=\"middle\" x=\"1137.25\" y=\"-67.2\" font-family=\"Times New Roman,serif\" font-size=\"14.00\">grad 0.5000</text>\n",
       "</g>\n",
       "<!-- 2487012812608tanh -->\n",
       "<g id=\"node12\" class=\"node\">\n",
       "<title>2487012812608tanh</title>\n",
       "<ellipse fill=\"none\" stroke=\"black\" cx=\"1241.25\" cy=\"-72.5\" rx=\"27\" ry=\"18\"/>\n",
       "<text text-anchor=\"middle\" x=\"1241.25\" y=\"-67.08\" font-family=\"Times New Roman,serif\" font-size=\"14.00\">tanh</text>\n",
       "</g>\n",
       "<!-- 2487012803680&#45;&gt;2487012812608tanh -->\n",
       "<g id=\"edge6\" class=\"edge\">\n",
       "<title>2487012803680&#45;&gt;2487012812608tanh</title>\n",
       "<path fill=\"none\" stroke=\"black\" d=\"M1178.36,-72.5C1186.76,-72.5 1194.91,-72.5 1202.39,-72.5\"/>\n",
       "<polygon fill=\"black\" stroke=\"black\" points=\"1202.39,-76 1212.39,-72.5 1202.39,-69 1202.39,-76\"/>\n",
       "</g>\n",
       "<!-- 2487012803680+ -->\n",
       "<g id=\"node3\" class=\"node\">\n",
       "<title>2487012803680+</title>\n",
       "<ellipse fill=\"none\" stroke=\"black\" cx=\"930.75\" cy=\"-72.5\" rx=\"27\" ry=\"18\"/>\n",
       "<text text-anchor=\"middle\" x=\"930.75\" y=\"-67.08\" font-family=\"Times New Roman,serif\" font-size=\"14.00\">+</text>\n",
       "</g>\n",
       "<!-- 2487012803680+&#45;&gt;2487012803680 -->\n",
       "<g id=\"edge1\" class=\"edge\">\n",
       "<title>2487012803680+&#45;&gt;2487012803680</title>\n",
       "<path fill=\"none\" stroke=\"black\" d=\"M958.09,-72.5C965.26,-72.5 973.46,-72.5 982.19,-72.5\"/>\n",
       "<polygon fill=\"black\" stroke=\"black\" points=\"981.96,-76 991.96,-72.5 981.96,-69 981.96,-76\"/>\n",
       "</g>\n",
       "<!-- 2487012802672 -->\n",
       "<g id=\"node4\" class=\"node\">\n",
       "<title>2487012802672</title>\n",
       "<polygon fill=\"none\" stroke=\"black\" points=\"1.5,-110.5 1.5,-146.5 198,-146.5 198,-110.5 1.5,-110.5\"/>\n",
       "<text text-anchor=\"middle\" x=\"16.25\" y=\"-123.2\" font-family=\"Times New Roman,serif\" font-size=\"14.00\">x1</text>\n",
       "<polyline fill=\"none\" stroke=\"black\" points=\"31,-110.75 31,-146.5\"/>\n",
       "<text text-anchor=\"middle\" x=\"71.25\" y=\"-123.2\" font-family=\"Times New Roman,serif\" font-size=\"14.00\">data 2.0000</text>\n",
       "<polyline fill=\"none\" stroke=\"black\" points=\"111.5,-110.75 111.5,-146.5\"/>\n",
       "<text text-anchor=\"middle\" x=\"154.75\" y=\"-123.2\" font-family=\"Times New Roman,serif\" font-size=\"14.00\">grad &#45;1.5000</text>\n",
       "</g>\n",
       "<!-- 2487012802672&#45;&gt;2487012814528* -->\n",
       "<g id=\"edge11\" class=\"edge\">\n",
       "<title>2487012802672&#45;&gt;2487012814528*</title>\n",
       "<path fill=\"none\" stroke=\"black\" d=\"M198.43,-128.5C207.33,-128.5 215.94,-128.5 223.79,-128.5\"/>\n",
       "<polygon fill=\"black\" stroke=\"black\" points=\"223.53,-132 233.53,-128.5 223.53,-125 223.53,-132\"/>\n",
       "</g>\n",
       "<!-- 2487012811888 -->\n",
       "<g id=\"node5\" class=\"node\">\n",
       "<title>2487012811888</title>\n",
       "<polygon fill=\"none\" stroke=\"black\" points=\"327.75,-55.5 327.75,-91.5 536.25,-91.5 536.25,-55.5 327.75,-55.5\"/>\n",
       "<text text-anchor=\"middle\" x=\"350.75\" y=\"-68.2\" font-family=\"Times New Roman,serif\" font-size=\"14.00\">x2w2</text>\n",
       "<polyline fill=\"none\" stroke=\"black\" points=\"373.75,-55.75 373.75,-91.5\"/>\n",
       "<text text-anchor=\"middle\" x=\"414\" y=\"-68.2\" font-family=\"Times New Roman,serif\" font-size=\"14.00\">data 0.0000</text>\n",
       "<polyline fill=\"none\" stroke=\"black\" points=\"454.25,-55.75 454.25,-91.5\"/>\n",
       "<text text-anchor=\"middle\" x=\"495.25\" y=\"-68.2\" font-family=\"Times New Roman,serif\" font-size=\"14.00\">grad 0.5000</text>\n",
       "</g>\n",
       "<!-- 2487012811696+ -->\n",
       "<g id=\"node15\" class=\"node\">\n",
       "<title>2487012811696+</title>\n",
       "<ellipse fill=\"none\" stroke=\"black\" cx=\"601.5\" cy=\"-100.5\" rx=\"27\" ry=\"18\"/>\n",
       "<text text-anchor=\"middle\" x=\"601.5\" y=\"-95.08\" font-family=\"Times New Roman,serif\" font-size=\"14.00\">+</text>\n",
       "</g>\n",
       "<!-- 2487012811888&#45;&gt;2487012811696+ -->\n",
       "<g id=\"edge14\" class=\"edge\">\n",
       "<title>2487012811888&#45;&gt;2487012811696+</title>\n",
       "<path fill=\"none\" stroke=\"black\" d=\"M536.7,-90.22C546.14,-91.74 555.22,-93.2 563.43,-94.52\"/>\n",
       "<polygon fill=\"black\" stroke=\"black\" points=\"562.84,-97.97 573.27,-96.11 563.95,-91.06 562.84,-97.97\"/>\n",
       "</g>\n",
       "<!-- 2487012811888* -->\n",
       "<g id=\"node6\" class=\"node\">\n",
       "<title>2487012811888*</title>\n",
       "<ellipse fill=\"none\" stroke=\"black\" cx=\"262.5\" cy=\"-73.5\" rx=\"27\" ry=\"18\"/>\n",
       "<text text-anchor=\"middle\" x=\"262.5\" y=\"-68.08\" font-family=\"Times New Roman,serif\" font-size=\"14.00\">*</text>\n",
       "</g>\n",
       "<!-- 2487012811888*&#45;&gt;2487012811888 -->\n",
       "<g id=\"edge2\" class=\"edge\">\n",
       "<title>2487012811888*&#45;&gt;2487012811888</title>\n",
       "<path fill=\"none\" stroke=\"black\" d=\"M289.67,-73.5C297.34,-73.5 306.26,-73.5 315.82,-73.5\"/>\n",
       "<polygon fill=\"black\" stroke=\"black\" points=\"315.79,-77 325.79,-73.5 315.79,-70 315.79,-77\"/>\n",
       "</g>\n",
       "<!-- 2487012814528 -->\n",
       "<g id=\"node7\" class=\"node\">\n",
       "<title>2487012814528</title>\n",
       "<polygon fill=\"none\" stroke=\"black\" points=\"325.5,-110.5 325.5,-146.5 538.5,-146.5 538.5,-110.5 325.5,-110.5\"/>\n",
       "<text text-anchor=\"middle\" x=\"348.5\" y=\"-123.2\" font-family=\"Times New Roman,serif\" font-size=\"14.00\">x1w1</text>\n",
       "<polyline fill=\"none\" stroke=\"black\" points=\"371.5,-110.75 371.5,-146.5\"/>\n",
       "<text text-anchor=\"middle\" x=\"414\" y=\"-123.2\" font-family=\"Times New Roman,serif\" font-size=\"14.00\">data &#45;6.0000</text>\n",
       "<polyline fill=\"none\" stroke=\"black\" points=\"456.5,-110.75 456.5,-146.5\"/>\n",
       "<text text-anchor=\"middle\" x=\"497.5\" y=\"-123.2\" font-family=\"Times New Roman,serif\" font-size=\"14.00\">grad 0.5000</text>\n",
       "</g>\n",
       "<!-- 2487012814528&#45;&gt;2487012811696+ -->\n",
       "<g id=\"edge12\" class=\"edge\">\n",
       "<title>2487012814528&#45;&gt;2487012811696+</title>\n",
       "<path fill=\"none\" stroke=\"black\" d=\"M538.61,-110.85C547.54,-109.35 556.12,-107.92 563.9,-106.62\"/>\n",
       "<polygon fill=\"black\" stroke=\"black\" points=\"564.24,-110.11 573.53,-105.01 563.09,-103.21 564.24,-110.11\"/>\n",
       "</g>\n",
       "<!-- 2487012814528*&#45;&gt;2487012814528 -->\n",
       "<g id=\"edge3\" class=\"edge\">\n",
       "<title>2487012814528*&#45;&gt;2487012814528</title>\n",
       "<path fill=\"none\" stroke=\"black\" d=\"M289.67,-128.5C296.79,-128.5 304.98,-128.5 313.76,-128.5\"/>\n",
       "<polygon fill=\"black\" stroke=\"black\" points=\"313.64,-132 323.64,-128.5 313.64,-125 313.64,-132\"/>\n",
       "</g>\n",
       "<!-- 2487012802768 -->\n",
       "<g id=\"node9\" class=\"node\">\n",
       "<title>2487012802768</title>\n",
       "<polygon fill=\"none\" stroke=\"black\" points=\"673.12,-27.5 673.12,-63.5 859.12,-63.5 859.12,-27.5 673.12,-27.5\"/>\n",
       "<text text-anchor=\"middle\" x=\"684.88\" y=\"-40.2\" font-family=\"Times New Roman,serif\" font-size=\"14.00\">b</text>\n",
       "<polyline fill=\"none\" stroke=\"black\" points=\"696.62,-27.75 696.62,-63.5\"/>\n",
       "<text text-anchor=\"middle\" x=\"736.88\" y=\"-40.2\" font-family=\"Times New Roman,serif\" font-size=\"14.00\">data 6.8814</text>\n",
       "<polyline fill=\"none\" stroke=\"black\" points=\"777.12,-27.75 777.12,-63.5\"/>\n",
       "<text text-anchor=\"middle\" x=\"818.12\" y=\"-40.2\" font-family=\"Times New Roman,serif\" font-size=\"14.00\">grad 0.5000</text>\n",
       "</g>\n",
       "<!-- 2487012802768&#45;&gt;2487012803680+ -->\n",
       "<g id=\"edge9\" class=\"edge\">\n",
       "<title>2487012802768&#45;&gt;2487012803680+</title>\n",
       "<path fill=\"none\" stroke=\"black\" d=\"M859.37,-60.81C871.22,-62.78 882.75,-64.7 892.94,-66.39\"/>\n",
       "<polygon fill=\"black\" stroke=\"black\" points=\"892.29,-69.83 902.73,-68.01 893.44,-62.92 892.29,-69.83\"/>\n",
       "</g>\n",
       "<!-- 2487012804352 -->\n",
       "<g id=\"node10\" class=\"node\">\n",
       "<title>2487012804352</title>\n",
       "<polygon fill=\"none\" stroke=\"black\" points=\"2.25,-55.5 2.25,-91.5 197.25,-91.5 197.25,-55.5 2.25,-55.5\"/>\n",
       "<text text-anchor=\"middle\" x=\"18.5\" y=\"-68.2\" font-family=\"Times New Roman,serif\" font-size=\"14.00\">w2</text>\n",
       "<polyline fill=\"none\" stroke=\"black\" points=\"34.75,-55.75 34.75,-91.5\"/>\n",
       "<text text-anchor=\"middle\" x=\"75\" y=\"-68.2\" font-family=\"Times New Roman,serif\" font-size=\"14.00\">data 1.0000</text>\n",
       "<polyline fill=\"none\" stroke=\"black\" points=\"115.25,-55.75 115.25,-91.5\"/>\n",
       "<text text-anchor=\"middle\" x=\"156.25\" y=\"-68.2\" font-family=\"Times New Roman,serif\" font-size=\"14.00\">grad 0.0000</text>\n",
       "</g>\n",
       "<!-- 2487012804352&#45;&gt;2487012811888* -->\n",
       "<g id=\"edge8\" class=\"edge\">\n",
       "<title>2487012804352&#45;&gt;2487012811888*</title>\n",
       "<path fill=\"none\" stroke=\"black\" d=\"M197.51,-73.5C206.8,-73.5 215.79,-73.5 223.94,-73.5\"/>\n",
       "<polygon fill=\"black\" stroke=\"black\" points=\"223.72,-77 233.72,-73.5 223.72,-70 223.72,-77\"/>\n",
       "</g>\n",
       "<!-- 2487012812608 -->\n",
       "<g id=\"node11\" class=\"node\">\n",
       "<title>2487012812608</title>\n",
       "<polygon fill=\"none\" stroke=\"black\" points=\"1304.25,-54.5 1304.25,-90.5 1490.25,-90.5 1490.25,-54.5 1304.25,-54.5\"/>\n",
       "<text text-anchor=\"middle\" x=\"1316\" y=\"-67.2\" font-family=\"Times New Roman,serif\" font-size=\"14.00\">o</text>\n",
       "<polyline fill=\"none\" stroke=\"black\" points=\"1327.75,-54.75 1327.75,-90.5\"/>\n",
       "<text text-anchor=\"middle\" x=\"1368\" y=\"-67.2\" font-family=\"Times New Roman,serif\" font-size=\"14.00\">data 0.7071</text>\n",
       "<polyline fill=\"none\" stroke=\"black\" points=\"1408.25,-54.75 1408.25,-90.5\"/>\n",
       "<text text-anchor=\"middle\" x=\"1449.25\" y=\"-67.2\" font-family=\"Times New Roman,serif\" font-size=\"14.00\">grad 1.0000</text>\n",
       "</g>\n",
       "<!-- 2487012812608tanh&#45;&gt;2487012812608 -->\n",
       "<g id=\"edge4\" class=\"edge\">\n",
       "<title>2487012812608tanh&#45;&gt;2487012812608</title>\n",
       "<path fill=\"none\" stroke=\"black\" d=\"M1268.72,-72.5C1275.86,-72.5 1284.03,-72.5 1292.71,-72.5\"/>\n",
       "<polygon fill=\"black\" stroke=\"black\" points=\"1292.44,-76 1302.44,-72.5 1292.44,-69 1292.44,-76\"/>\n",
       "</g>\n",
       "<!-- 2487010577760 -->\n",
       "<g id=\"node13\" class=\"node\">\n",
       "<title>2487010577760</title>\n",
       "<polygon fill=\"none\" stroke=\"black\" points=\"3.75,-0.5 3.75,-36.5 195.75,-36.5 195.75,-0.5 3.75,-0.5\"/>\n",
       "<text text-anchor=\"middle\" x=\"18.5\" y=\"-13.2\" font-family=\"Times New Roman,serif\" font-size=\"14.00\">x2</text>\n",
       "<polyline fill=\"none\" stroke=\"black\" points=\"33.25,-0.75 33.25,-36.5\"/>\n",
       "<text text-anchor=\"middle\" x=\"73.5\" y=\"-13.2\" font-family=\"Times New Roman,serif\" font-size=\"14.00\">data 0.0000</text>\n",
       "<polyline fill=\"none\" stroke=\"black\" points=\"113.75,-0.75 113.75,-36.5\"/>\n",
       "<text text-anchor=\"middle\" x=\"154.75\" y=\"-13.2\" font-family=\"Times New Roman,serif\" font-size=\"14.00\">grad 0.5000</text>\n",
       "</g>\n",
       "<!-- 2487010577760&#45;&gt;2487012811888* -->\n",
       "<g id=\"edge7\" class=\"edge\">\n",
       "<title>2487010577760&#45;&gt;2487012811888*</title>\n",
       "<path fill=\"none\" stroke=\"black\" d=\"M173.43,-36.97C182.28,-39.63 191.14,-42.49 199.5,-45.5 209.59,-49.13 220.33,-53.71 229.98,-58.11\"/>\n",
       "<polygon fill=\"black\" stroke=\"black\" points=\"228.41,-61.24 238.95,-62.3 231.37,-54.9 228.41,-61.24\"/>\n",
       "</g>\n",
       "<!-- 2487012811696 -->\n",
       "<g id=\"node14\" class=\"node\">\n",
       "<title>2487012811696</title>\n",
       "<polygon fill=\"none\" stroke=\"black\" points=\"664.5,-82.5 664.5,-118.5 867.75,-118.5 867.75,-82.5 664.5,-82.5\"/>\n",
       "<text text-anchor=\"middle\" x=\"682.62\" y=\"-95.2\" font-family=\"Times New Roman,serif\" font-size=\"14.00\">Wx</text>\n",
       "<polyline fill=\"none\" stroke=\"black\" points=\"700.75,-82.75 700.75,-118.5\"/>\n",
       "<text text-anchor=\"middle\" x=\"743.25\" y=\"-95.2\" font-family=\"Times New Roman,serif\" font-size=\"14.00\">data &#45;6.0000</text>\n",
       "<polyline fill=\"none\" stroke=\"black\" points=\"785.75,-82.75 785.75,-118.5\"/>\n",
       "<text text-anchor=\"middle\" x=\"826.75\" y=\"-95.2\" font-family=\"Times New Roman,serif\" font-size=\"14.00\">grad 0.5000</text>\n",
       "</g>\n",
       "<!-- 2487012811696&#45;&gt;2487012803680+ -->\n",
       "<g id=\"edge10\" class=\"edge\">\n",
       "<title>2487012811696&#45;&gt;2487012803680+</title>\n",
       "<path fill=\"none\" stroke=\"black\" d=\"M867.8,-83.17C876.69,-81.64 885.25,-80.16 893.03,-78.82\"/>\n",
       "<polygon fill=\"black\" stroke=\"black\" points=\"893.41,-82.31 902.67,-77.16 892.22,-75.41 893.41,-82.31\"/>\n",
       "</g>\n",
       "<!-- 2487012811696+&#45;&gt;2487012811696 -->\n",
       "<g id=\"edge5\" class=\"edge\">\n",
       "<title>2487012811696+&#45;&gt;2487012811696</title>\n",
       "<path fill=\"none\" stroke=\"black\" d=\"M628.99,-100.5C636.08,-100.5 644.21,-100.5 652.89,-100.5\"/>\n",
       "<polygon fill=\"black\" stroke=\"black\" points=\"652.63,-104 662.63,-100.5 652.63,-97 652.63,-104\"/>\n",
       "</g>\n",
       "</g>\n",
       "</svg>\n"
      ],
      "text/plain": [
       "<graphviz.graphs.Digraph at 0x2430d83cf10>"
      ]
     },
     "execution_count": 25,
     "metadata": {},
     "output_type": "execute_result"
    }
   ],
   "source": [
    "draw_dot(f_z)"
   ]
  },
  {
   "cell_type": "code",
   "execution_count": 24,
   "metadata": {},
   "outputs": [
    {
     "name": "stdout",
     "output_type": "stream",
     "text": [
      "[Value(data=-3.0), Value(data=2.0), Value(data=-6.0), Value(data=1.0), Value(data=0.0), Value(data=0.0), Value(data=-6.0), Value(data=6.881373587019), Value(data=0.8813735870189996), Value(data=0.7071067811862758)]\n"
     ]
    }
   ],
   "source": [
    "f_z.backward()"
   ]
  },
  {
   "cell_type": "code",
   "execution_count": 10,
   "metadata": {},
   "outputs": [],
   "source": [
    "f_z.grad = 1.0"
   ]
  },
  {
   "cell_type": "code",
   "execution_count": 11,
   "metadata": {},
   "outputs": [],
   "source": [
    "f_z._backward()\n",
    "z._backward()\n",
    "b._backward()\n",
    "Wx._backward()\n",
    "x1w1._backward()\n",
    "x2w2._backward()"
   ]
  },
  {
   "cell_type": "code",
   "execution_count": 27,
   "metadata": {},
   "outputs": [
    {
     "data": {
      "image/svg+xml": [
       "<?xml version=\"1.0\" encoding=\"UTF-8\" standalone=\"no\"?>\n",
       "<!DOCTYPE svg PUBLIC \"-//W3C//DTD SVG 1.1//EN\"\n",
       " \"http://www.w3.org/Graphics/SVG/1.1/DTD/svg11.dtd\">\n",
       "<!-- Generated by graphviz version 12.0.0 (20240704.0754)\n",
       " -->\n",
       "<!-- Pages: 1 -->\n",
       "<svg width=\"501pt\" height=\"45pt\"\n",
       " viewBox=\"0.00 0.00 500.75 45.00\" xmlns=\"http://www.w3.org/2000/svg\" xmlns:xlink=\"http://www.w3.org/1999/xlink\">\n",
       "<g id=\"graph0\" class=\"graph\" transform=\"scale(1 1) rotate(0) translate(4 41)\">\n",
       "<polygon fill=\"white\" stroke=\"none\" points=\"-4,4 -4,-41 496.75,-41 496.75,4 -4,4\"/>\n",
       "<!-- 2487031038688 -->\n",
       "<g id=\"node1\" class=\"node\">\n",
       "<title>2487031038688</title>\n",
       "<polygon fill=\"none\" stroke=\"black\" points=\"310.5,-0.5 310.5,-36.5 492.75,-36.5 492.75,-0.5 310.5,-0.5\"/>\n",
       "<text text-anchor=\"middle\" x=\"320.38\" y=\"-13.2\" font-family=\"Times New Roman,serif\" font-size=\"14.00\"> </text>\n",
       "<polyline fill=\"none\" stroke=\"black\" points=\"330.25,-0.75 330.25,-36.5\"/>\n",
       "<text text-anchor=\"middle\" x=\"370.5\" y=\"-13.2\" font-family=\"Times New Roman,serif\" font-size=\"14.00\">data 2.0000</text>\n",
       "<polyline fill=\"none\" stroke=\"black\" points=\"410.75,-0.75 410.75,-36.5\"/>\n",
       "<text text-anchor=\"middle\" x=\"451.75\" y=\"-13.2\" font-family=\"Times New Roman,serif\" font-size=\"14.00\">grad 0.0000</text>\n",
       "</g>\n",
       "<!-- 2487031038688+ -->\n",
       "<g id=\"node2\" class=\"node\">\n",
       "<title>2487031038688+</title>\n",
       "<ellipse fill=\"none\" stroke=\"black\" cx=\"247.5\" cy=\"-18.5\" rx=\"27\" ry=\"18\"/>\n",
       "<text text-anchor=\"middle\" x=\"247.5\" y=\"-13.07\" font-family=\"Times New Roman,serif\" font-size=\"14.00\">+</text>\n",
       "</g>\n",
       "<!-- 2487031038688+&#45;&gt;2487031038688 -->\n",
       "<g id=\"edge1\" class=\"edge\">\n",
       "<title>2487031038688+&#45;&gt;2487031038688</title>\n",
       "<path fill=\"none\" stroke=\"black\" d=\"M275,-18.5C282.04,-18.5 290.09,-18.5 298.63,-18.5\"/>\n",
       "<polygon fill=\"black\" stroke=\"black\" points=\"298.59,-22 308.59,-18.5 298.59,-15 298.59,-22\"/>\n",
       "</g>\n",
       "<!-- 2487031038304 -->\n",
       "<g id=\"node3\" class=\"node\">\n",
       "<title>2487031038304</title>\n",
       "<polygon fill=\"none\" stroke=\"black\" points=\"0,-0.5 0,-36.5 184.5,-36.5 184.5,-0.5 0,-0.5\"/>\n",
       "<text text-anchor=\"middle\" x=\"11\" y=\"-13.2\" font-family=\"Times New Roman,serif\" font-size=\"14.00\">a</text>\n",
       "<polyline fill=\"none\" stroke=\"black\" points=\"22,-0.75 22,-36.5\"/>\n",
       "<text text-anchor=\"middle\" x=\"62.25\" y=\"-13.2\" font-family=\"Times New Roman,serif\" font-size=\"14.00\">data 1.0000</text>\n",
       "<polyline fill=\"none\" stroke=\"black\" points=\"102.5,-0.75 102.5,-36.5\"/>\n",
       "<text text-anchor=\"middle\" x=\"143.5\" y=\"-13.2\" font-family=\"Times New Roman,serif\" font-size=\"14.00\">grad 0.0000</text>\n",
       "</g>\n",
       "<!-- 2487031038304&#45;&gt;2487031038688+ -->\n",
       "<g id=\"edge2\" class=\"edge\">\n",
       "<title>2487031038304&#45;&gt;2487031038688+</title>\n",
       "<path fill=\"none\" stroke=\"black\" d=\"M184.61,-18.5C193.01,-18.5 201.16,-18.5 208.64,-18.5\"/>\n",
       "<polygon fill=\"black\" stroke=\"black\" points=\"208.64,-22 218.64,-18.5 208.64,-15 208.64,-22\"/>\n",
       "</g>\n",
       "</g>\n",
       "</svg>\n"
      ],
      "text/plain": [
       "<graphviz.graphs.Digraph at 0x2430ea121d0>"
      ]
     },
     "execution_count": 27,
     "metadata": {},
     "output_type": "execute_result"
    }
   ],
   "source": [
    "a = Value(1, label='a')\n",
    "b = a + a\n",
    "draw_dot(b)"
   ]
  },
  {
   "cell_type": "code",
   "execution_count": 28,
   "metadata": {},
   "outputs": [
    {
     "name": "stdout",
     "output_type": "stream",
     "text": [
      "[Value(data=1), Value(data=2)]\n"
     ]
    },
    {
     "data": {
      "image/svg+xml": [
       "<?xml version=\"1.0\" encoding=\"UTF-8\" standalone=\"no\"?>\n",
       "<!DOCTYPE svg PUBLIC \"-//W3C//DTD SVG 1.1//EN\"\n",
       " \"http://www.w3.org/Graphics/SVG/1.1/DTD/svg11.dtd\">\n",
       "<!-- Generated by graphviz version 12.0.0 (20240704.0754)\n",
       " -->\n",
       "<!-- Pages: 1 -->\n",
       "<svg width=\"501pt\" height=\"45pt\"\n",
       " viewBox=\"0.00 0.00 500.75 45.00\" xmlns=\"http://www.w3.org/2000/svg\" xmlns:xlink=\"http://www.w3.org/1999/xlink\">\n",
       "<g id=\"graph0\" class=\"graph\" transform=\"scale(1 1) rotate(0) translate(4 41)\">\n",
       "<polygon fill=\"white\" stroke=\"none\" points=\"-4,4 -4,-41 496.75,-41 496.75,4 -4,4\"/>\n",
       "<!-- 2487031038688 -->\n",
       "<g id=\"node1\" class=\"node\">\n",
       "<title>2487031038688</title>\n",
       "<polygon fill=\"none\" stroke=\"black\" points=\"310.5,-0.5 310.5,-36.5 492.75,-36.5 492.75,-0.5 310.5,-0.5\"/>\n",
       "<text text-anchor=\"middle\" x=\"320.38\" y=\"-13.2\" font-family=\"Times New Roman,serif\" font-size=\"14.00\"> </text>\n",
       "<polyline fill=\"none\" stroke=\"black\" points=\"330.25,-0.75 330.25,-36.5\"/>\n",
       "<text text-anchor=\"middle\" x=\"370.5\" y=\"-13.2\" font-family=\"Times New Roman,serif\" font-size=\"14.00\">data 2.0000</text>\n",
       "<polyline fill=\"none\" stroke=\"black\" points=\"410.75,-0.75 410.75,-36.5\"/>\n",
       "<text text-anchor=\"middle\" x=\"451.75\" y=\"-13.2\" font-family=\"Times New Roman,serif\" font-size=\"14.00\">grad 1.0000</text>\n",
       "</g>\n",
       "<!-- 2487031038688+ -->\n",
       "<g id=\"node2\" class=\"node\">\n",
       "<title>2487031038688+</title>\n",
       "<ellipse fill=\"none\" stroke=\"black\" cx=\"247.5\" cy=\"-18.5\" rx=\"27\" ry=\"18\"/>\n",
       "<text text-anchor=\"middle\" x=\"247.5\" y=\"-13.07\" font-family=\"Times New Roman,serif\" font-size=\"14.00\">+</text>\n",
       "</g>\n",
       "<!-- 2487031038688+&#45;&gt;2487031038688 -->\n",
       "<g id=\"edge1\" class=\"edge\">\n",
       "<title>2487031038688+&#45;&gt;2487031038688</title>\n",
       "<path fill=\"none\" stroke=\"black\" d=\"M275,-18.5C282.04,-18.5 290.09,-18.5 298.63,-18.5\"/>\n",
       "<polygon fill=\"black\" stroke=\"black\" points=\"298.59,-22 308.59,-18.5 298.59,-15 298.59,-22\"/>\n",
       "</g>\n",
       "<!-- 2487031038304 -->\n",
       "<g id=\"node3\" class=\"node\">\n",
       "<title>2487031038304</title>\n",
       "<polygon fill=\"none\" stroke=\"black\" points=\"0,-0.5 0,-36.5 184.5,-36.5 184.5,-0.5 0,-0.5\"/>\n",
       "<text text-anchor=\"middle\" x=\"11\" y=\"-13.2\" font-family=\"Times New Roman,serif\" font-size=\"14.00\">a</text>\n",
       "<polyline fill=\"none\" stroke=\"black\" points=\"22,-0.75 22,-36.5\"/>\n",
       "<text text-anchor=\"middle\" x=\"62.25\" y=\"-13.2\" font-family=\"Times New Roman,serif\" font-size=\"14.00\">data 1.0000</text>\n",
       "<polyline fill=\"none\" stroke=\"black\" points=\"102.5,-0.75 102.5,-36.5\"/>\n",
       "<text text-anchor=\"middle\" x=\"143.5\" y=\"-13.2\" font-family=\"Times New Roman,serif\" font-size=\"14.00\">grad 2.0000</text>\n",
       "</g>\n",
       "<!-- 2487031038304&#45;&gt;2487031038688+ -->\n",
       "<g id=\"edge2\" class=\"edge\">\n",
       "<title>2487031038304&#45;&gt;2487031038688+</title>\n",
       "<path fill=\"none\" stroke=\"black\" d=\"M184.61,-18.5C193.01,-18.5 201.16,-18.5 208.64,-18.5\"/>\n",
       "<polygon fill=\"black\" stroke=\"black\" points=\"208.64,-22 218.64,-18.5 208.64,-15 208.64,-22\"/>\n",
       "</g>\n",
       "</g>\n",
       "</svg>\n"
      ],
      "text/plain": [
       "<graphviz.graphs.Digraph at 0x2430e9fea40>"
      ]
     },
     "execution_count": 28,
     "metadata": {},
     "output_type": "execute_result"
    }
   ],
   "source": [
    "b.backward()\n",
    "draw_dot(b)"
   ]
  },
  {
   "cell_type": "markdown",
   "metadata": {
    "slideshow": {
     "slide_type": "notes"
    }
   },
   "source": [
    "## Building a Neuron"
   ]
  },
  {
   "cell_type": "code",
   "execution_count": 92,
   "metadata": {},
   "outputs": [],
   "source": [
    "import random\n",
    "\n",
    "class Neuron:\n",
    "    def __init__(self, n_inputs) -> None:\n",
    "        self.w = [Value(random.uniform(-1, 1)) for _ in range(n_inputs)]\n",
    "        self.b = Value(random.uniform(-1, 1))\n",
    "    \n",
    "    def __call__(self, x):\n",
    "        out = sum( (wi * xi for wi, xi in zip(self.w, x)), self.b)\n",
    "        activated_out = out.tanh()\n",
    "        return activated_out\n",
    "    \n",
    "    @property\n",
    "    def parameters(self) -> List[Value]:\n",
    "        return self.w + [self.b]"
   ]
  },
  {
   "cell_type": "code",
   "execution_count": 57,
   "metadata": {},
   "outputs": [
    {
     "data": {
      "text/plain": [
       "Value(data=-0.9907923459689248)"
      ]
     },
     "execution_count": 57,
     "metadata": {},
     "output_type": "execute_result"
    }
   ],
   "source": [
    "x = [2.0, 3.0]\n",
    "neuron = Neuron(2)\n",
    "neuron(x)"
   ]
  },
  {
   "cell_type": "markdown",
   "metadata": {},
   "source": [
    "## Building a Layer"
   ]
  },
  {
   "cell_type": "code",
   "execution_count": 93,
   "metadata": {},
   "outputs": [],
   "source": [
    "class Layer:\n",
    "    def __init__(self, n_inputs, n_outpus) -> None:\n",
    "        self.n_inputs = n_inputs\n",
    "        self.neurons = [Neuron(n_inputs) for _ in range(n_outpus)]\n",
    "    \n",
    "    def __call__(self, x):\n",
    "        out = [neuron(x) for neuron in self.neurons]\n",
    "        return out[0] if len(out) == 1 else out\n",
    "    \n",
    "    def __str__(self):\n",
    "        return f\"Layer({len(self.neurons)} neurons, n_inputs={self.n_inputs})\"\n",
    "    \n",
    "    def __repr__(self):\n",
    "        return f\"Layer({len(self.neurons)} neurons, n_inputs={self.n_inputs})\"\n",
    "    \n",
    "    @property\n",
    "    def parameters(self) -> List[Value]:\n",
    "        return [p for neuron in self.neurons for p in neuron.parameters]"
   ]
  },
  {
   "cell_type": "code",
   "execution_count": 59,
   "metadata": {},
   "outputs": [
    {
     "data": {
      "text/plain": [
       "Value(data=-0.9997578900220631)"
      ]
     },
     "execution_count": 59,
     "metadata": {},
     "output_type": "execute_result"
    }
   ],
   "source": [
    "x = [3.0, 4.0, 5.0, 1.0]\n",
    "layer  = Layer(n_inputs=4, n_outpus=1)\n",
    "layer(x)"
   ]
  },
  {
   "cell_type": "code",
   "execution_count": 60,
   "metadata": {},
   "outputs": [
    {
     "data": {
      "text/plain": [
       "Layer(1 neurons, n_inputs=4)"
      ]
     },
     "execution_count": 60,
     "metadata": {},
     "output_type": "execute_result"
    }
   ],
   "source": [
    "layer"
   ]
  },
  {
   "cell_type": "markdown",
   "metadata": {},
   "source": [
    "## Building a MLP"
   ]
  },
  {
   "cell_type": "code",
   "execution_count": 207,
   "metadata": {},
   "outputs": [],
   "source": [
    "class MLP:\n",
    "    def __init__(self, n_inputs: int, layers: List[int]) -> None:\n",
    "        layers_with_input = [n_inputs] + layers\n",
    "        self.layers = [Layer(layers_with_input[i], layers_with_input[i+1]) for i in range(len(layers))]\n",
    "    \n",
    "    def __call__(self, x):\n",
    "        for layer in self.layers:\n",
    "            x = layer(x)\n",
    "        return x\n",
    "    \n",
    "    def __str__(self) -> str:\n",
    "        _str = \"\"\n",
    "        for layer in self.layers:\n",
    "            _str += f\"{layer}\\n\"\n",
    "        return _str\n",
    "    \n",
    "    def __repr__(self) -> str:\n",
    "        _str = \"\"\n",
    "        for layer in self.layers:\n",
    "            _str += f\"{layer}\\n\"\n",
    "        return _str\n",
    "    \n",
    "    @property\n",
    "    def parameters(self) -> List[Value]:\n",
    "        return [p for layer in self.layers for p in layer.parameters]"
   ]
  },
  {
   "cell_type": "code",
   "execution_count": 206,
   "metadata": {},
   "outputs": [
    {
     "data": {
      "text/plain": [
       "Layer(4 neurons, n_inputs=3)\n",
       "Layer(3 neurons, n_inputs=4)\n",
       "Layer(1 neurons, n_inputs=3)"
      ]
     },
     "execution_count": 206,
     "metadata": {},
     "output_type": "execute_result"
    }
   ],
   "source": [
    "model = MLP(3, [4, 3, 1])\n",
    "model"
   ]
  },
  {
   "cell_type": "code",
   "execution_count": 208,
   "metadata": {},
   "outputs": [],
   "source": [
    "model = MLP(3, [5, 4, 1])\n",
    "X = [[2.0, 3.0, -1.0],\n",
    "     [3.0, -1.0, 0.5],\n",
    "     [0.5, 1.0, 1.0],\n",
    "     [1.0, 1.0, -1.0]]\n",
    "Y = [1.0, -1.0, -1.0, 1.0]"
   ]
  },
  {
   "cell_type": "code",
   "execution_count": 200,
   "metadata": {},
   "outputs": [
    {
     "data": {
      "text/plain": [
       "[Value(data=-0.0868688539841419),\n",
       " Value(data=0.1582539651762508),\n",
       " Value(data=-0.2852301664416002),\n",
       " Value(data=0.07233698522730315)]"
      ]
     },
     "execution_count": 200,
     "metadata": {},
     "output_type": "execute_result"
    }
   ],
   "source": [
    "learning_rate = 0.1\n",
    "NUM_EPOCHS = 1\n",
    "\n",
    "for i in range(NUM_EPOCHS):\n",
    "    # Forward Pass\n",
    "    Y_hat = [model(x) for x in X]\n",
    "\n",
    "    # Calculate Loss per sample\n",
    "    loss = [(y - y_hat)**2 for y, y_hat in zip(Y, Y_hat)]\n",
    "\n",
    "    # Calculate the cost\n",
    "    cost = sum(loss)\n",
    "\n",
    "    # Clear residual Gradients\n",
    "    for p in model.parameters:\n",
    "        p.grad = 0.0\n",
    "\n",
    "    # The Magic !!! Backpropagation ✨\n",
    "    cost.backward()\n",
    "\n",
    "    \n",
    "\n",
    "# for layer in model.layers:\n",
    "#     print(\"_______________________________________\")\n",
    "#     print(f\"Visiting {layer}\")\n",
    "#     print(\"---------------------------------------\")\n",
    "#     for neuron in layer.neurons:\n",
    "#         print(f\"|-> Visiting {neuron}\")\n",
    "#         for weight in neuron.w:\n",
    "#             print(f\"\\t|-> Updating {weight}\")\n",
    "#             weight = weight - learning_rate * weight.grad\n",
    "#         print(f\"\\t|-> Updating bias...\")\n",
    "#         neuron.b = neuron.b - learning_rate * neuron.b.grad\n",
    "#     print()"
   ]
  },
  {
   "cell_type": "code",
   "execution_count": null,
   "metadata": {},
   "outputs": [],
   "source": []
  }
 ],
 "metadata": {
  "kernelspec": {
   "display_name": "tutorials",
   "language": "python",
   "name": "python3"
  },
  "language_info": {
   "codemirror_mode": {
    "name": "ipython",
    "version": 3
   },
   "file_extension": ".py",
   "mimetype": "text/x-python",
   "name": "python",
   "nbconvert_exporter": "python",
   "pygments_lexer": "ipython3",
   "version": "3.10.14"
  }
 },
 "nbformat": 4,
 "nbformat_minor": 2
}
